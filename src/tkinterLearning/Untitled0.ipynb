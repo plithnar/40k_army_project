{
 "metadata": {
  "name": "",
  "signature": "sha256:dc7be2f8f381fa65d19aff286e3978526b89f9f09a47097b67accaa2a4c2c4ff"
 },
 "nbformat": 3,
 "nbformat_minor": 0,
 "worksheets": [
  {
   "cells": [
    {
     "cell_type": "code",
     "collapsed": false,
     "input": [
      "from tkinter import Tk, Label\n",
      "\n",
      "tk = Tk()\n",
      "#First thing you pass to TK objects is its parent\n",
      "#Lots of options for TK objects, usually easier to use keyword arguements\n",
      "w = Label(tk, text = 'Hello, world! This label is small...')\n",
      "w.grid() #Geometry/packing manager. very simple method (and recommended by Bobl)\n",
      "tk.mainloop()"
     ],
     "language": "python",
     "metadata": {},
     "outputs": [],
     "prompt_number": 3
    },
    {
     "cell_type": "code",
     "collapsed": false,
     "input": [
      "from tkinter import Tk, Label\n",
      "\n",
      "tk = Tk()\n",
      "#First thing you pass to TK objects is its parent\n",
      "#Lots of options for TK objects, usually easier to use keyword arguements\n",
      "# A \"point\" is 1/72nd of an inch!\n",
      "w = Label(tk, text = 'Hello, world', font=('Courier', 36, 'bold'))\n",
      "w.grid() #Geometry/packing manager. very simple method (and recommended by Bobl)\n",
      "tk.mainloop()"
     ],
     "language": "python",
     "metadata": {},
     "outputs": [],
     "prompt_number": 7
    },
    {
     "cell_type": "code",
     "collapsed": false,
     "input": [
      "from tkinter import Frame, Button\n",
      "\n",
      "class Application(Frame):\n",
      "    \n",
      "    def __init__(self, master=None):\n",
      "        # Always be sure to do this with tkinter child classes\n",
      "        super().__init__(master)\n",
      "        quitButton = Button(self, text = \"Goodbye, World!\",\n",
      "                            command = self.quit,\n",
      "                            font = ('times', 24))\n",
      "        quitButton.grid()\n",
      "        \n",
      "root = Tk()\n",
      "app = Application(root)\n",
      "app.grid()\n",
      "root.title(\"Sample App\")\n",
      "app.mainloop()\n",
      "print(\"done\")"
     ],
     "language": "python",
     "metadata": {},
     "outputs": [
      {
       "output_type": "stream",
       "stream": "stdout",
       "text": [
        "done\n"
       ]
      }
     ],
     "prompt_number": 10
    },
    {
     "cell_type": "code",
     "collapsed": false,
     "input": [
      "from tkinter import Frame, Button\n",
      "\n",
      "class Application(Frame):\n",
      "    \n",
      "    def __init__(self, master=None):\n",
      "        # Always be sure to do this with tkinter child classes\n",
      "        super().__init__(master)\n",
      "        quitButton = Button(self, text = \"Goodbye, World!\",\n",
      "                            command = self.quit,\n",
      "                            font = ('times', 24))\n",
      "        quitButton.grid()\n",
      "        \n",
      "root = Tk()\n",
      "app = Application(root)\n",
      "app.grid()\n",
      "root.title(\"Sample App\")\n",
      "app.mainloop()\n",
      "print(\"done\")"
     ],
     "language": "python",
     "metadata": {},
     "outputs": []
    }
   ],
   "metadata": {}
  }
 ]
}